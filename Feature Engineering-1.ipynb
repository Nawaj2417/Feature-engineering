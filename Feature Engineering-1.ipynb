{
 "cells": [
  {
   "cell_type": "raw",
   "id": "372e10b6-5e3a-4698-a2a6-b92203d3a6d6",
   "metadata": {},
   "source": [
    "Q1: What are missing values in a dataset? Why is it essential to handle missing values? Name some algorithms that are not affected by missing values."
   ]
  },
  {
   "cell_type": "raw",
   "id": "079bcce6-8c7e-49ae-b700-e4c252436ff7",
   "metadata": {},
   "source": [
    "Ans: MIssing values in a dataset refer to the absence of data in one or more cells or columns of a dataset. These values can\n",
    "occur due to various reasons, such as data collection errors, loss of data during transfer , or incomplete surveys or questionaires.\n",
    "\n",
    "\n",
    "It is essential to handle missing values in a dataset because they can lead to biased or incorrect analysis and predications. They can also effect the accuracy and performance of machine learning models that are trained on the dataset.\n",
    "\n",
    "Some algorithms that are not affected by missing values are:\n",
    "1. Decision trees\n",
    "2. Random forests\n",
    "3. K-nearest neighbors\n",
    "4. Naive Bayes\n",
    "5. Support Vector Machines"
   ]
  },
  {
   "cell_type": "code",
   "execution_count": null,
   "id": "857d00c4-96e7-46f2-a3e7-55932530ddd5",
   "metadata": {},
   "outputs": [],
   "source": [
    "Q2: List down techniques used to handle missing data. Give an example of each with python code."
   ]
  },
  {
   "cell_type": "code",
   "execution_count": null,
   "id": "85b39d16-6507-4755-928a-4a5e04dc2cdc",
   "metadata": {},
   "outputs": [],
   "source": [
    "Ans: Some techniques used to handle missing data are:\n",
    "    1. Dropping missing values\n",
    "    examples:\n",
    "        import pandas as pd\n",
    "\n",
    "# Load dataset\n",
    "df = pd.read_csv('data.csv')\n",
    "\n",
    "# Drop rows with missing values\n",
    "df.dropna(inplace=True)\n",
    "\n",
    "# Drop columns with missing values\n",
    "df.dropna(axis=1, inplace=True)\n",
    "\n",
    "\n",
    "2. Imputing missing values with a constant:\n",
    "    import pandas as pd\n",
    "\n",
    "# Load dataset\n",
    "df = pd.read_csv('data.csv')\n",
    "\n",
    "# Impute missing values with zero\n",
    "df.fillna(0, inplace=True)\n",
    "\n",
    "# Impute missing values with mean\n",
    "df.fillna(df.mean(), inplace=True)\n",
    "\n",
    "\n",
    "\n",
    "3. Imputing missing values with interpolation:\n",
    "    import pandas as pd\n",
    "\n",
    "# Load dataset\n",
    "df = pd.read_csv('data.csv')\n",
    "\n",
    "# Interpolate missing values\n",
    "df.interpolate(inplace=True)\n",
    "\n",
    "\n",
    "\n",
    "4. Using machine learning alogorithms to impute missing values:\n",
    "from sklearn.impute import KNNImputer\n",
    "\n",
    "# Load dataset\n",
    "df = pd.read_csv('data.csv')\n",
    "\n",
    "# Impute missing values using KNN imputer\n",
    "imputer = KNNImputer(n_neighbors=5)\n",
    "df_imputed = pd.DataFrame(imputer.fit_transform(df))\n"
   ]
  },
  {
   "cell_type": "code",
   "execution_count": null,
   "id": "04e868ba-cada-4c15-9116-e40dbc7638c1",
   "metadata": {},
   "outputs": [],
   "source": [
    "Q3: Explain the imbalanced data. What will happen if imbalanced data is not handled?"
   ]
  },
  {
   "cell_type": "code",
   "execution_count": null,
   "id": "99965753-468e-47ed-8bba-d00e98d58890",
   "metadata": {},
   "outputs": [],
   "source": [
    "Ans: Imbalanced data refers to a situation where the number of observations belonging to one class in\n",
    "a binary classification problem is significantly higher or lower than the number of observations \n",
    "belonging to the other class. This can cause issues in machine learning models since the algorithm \n",
    "will be biased towards the majority class and may have difficulty accurately predicting the minority\n",
    "class.\n",
    "\n",
    "If imbalanced data is not handled following problems will arise:\n",
    "    1. The model may have a high accuracy rate due to its ability to correctly predict the majority class.\n",
    "    2. The model may become biased towards the majority class, leading to poor  generalization on new, unseen data.\n",
    "    3. The model may exhibit low recall  for the minority class."
   ]
  },
  {
   "cell_type": "code",
   "execution_count": null,
   "id": "e077aa2e-5a5c-48b0-8463-4a97b09ebc03",
   "metadata": {},
   "outputs": [],
   "source": [
    "Q4: What are Up-sampling and Down-sampling? Explain with an example when up-sampling and down-\n",
    "sampling are required."
   ]
  },
  {
   "cell_type": "code",
   "execution_count": null,
   "id": "406025be-0d40-4be9-9b25-bdf79f0f70e3",
   "metadata": {},
   "outputs": [],
   "source": [
    "Ans: Up-sampling and down-sampling are techniques used to address imbalanced data by either incresing or decreasing\n",
    "the number of observations in a particular class.\n",
    "\n",
    "Up-sampling involves randomly duplicating observations from the minority class until the number of observations\n",
    "in that class is equal to the number of observation in the majority class.\n",
    "\n",
    "\n",
    "Down-sampling involves randomly removing observations from the majority class until the number of observations\n",
    "in that class is equal to the number of observations in the minority class.\n",
    "\n",
    "For example, consider a medical dataset where the number of patients with a rare disease is much \n",
    "smaller than the number of patients without the disease. In this case, up-sampling can be used to\n",
    "generate synthetic data points to balance the number of observations in both classes. Conversely, in \n",
    "a dataset for credit card fraud detection, down-sampling can be used to remove a significant portion \n",
    "of non-fraudulent transactions, which can be much more numerous, to reduce the bias towards the\n",
    "majority class."
   ]
  },
  {
   "cell_type": "code",
   "execution_count": null,
   "id": "652dec44-a8bc-48b0-a2b3-e277aec53327",
   "metadata": {},
   "outputs": [],
   "source": []
  },
  {
   "cell_type": "code",
   "execution_count": null,
   "id": "a7f28fee-7626-4e0a-b699-b385872ab121",
   "metadata": {},
   "outputs": [],
   "source": [
    "Q5: What is data Augmentation? Explain SMOTE."
   ]
  },
  {
   "cell_type": "code",
   "execution_count": null,
   "id": "3b60efce-4034-4a58-8d89-14fb23cdb643",
   "metadata": {},
   "outputs": [],
   "source": [
    "Ans: Data augmentation is a technique used to artificially increase the size of a dataset by \n",
    "generating new samples from the existing data. This is typically done by applying various \n",
    "transformations to the original data, such as rotation, flipping, scaling, or adding noise\n",
    "\n",
    "SMOTE (Synthetic Minority Over-sampling Technique) is a specific type of data augmentation technique \n",
    "used to address imbalanced data in binary classification problems. It involves generating synthetic\n",
    "examples of the minority class by creating new data points that are a combination of existing minority\n",
    "class samples."
   ]
  },
  {
   "cell_type": "code",
   "execution_count": null,
   "id": "976290b1-6195-4d20-9385-98921b5dd79c",
   "metadata": {},
   "outputs": [],
   "source": [
    "Q6: What are outliers in a dataset? Why is it essential to handle outliers?"
   ]
  },
  {
   "cell_type": "code",
   "execution_count": null,
   "id": "5d9d6339-dad3-4bf2-aebe-a5a455b3f1fd",
   "metadata": {},
   "outputs": [],
   "source": [
    "Ans: Outliers are observations that deviate significantly from the rest of the data points in a \n",
    "dataset. They can be caused by measurement or recording errors, natural variations in the data, \n",
    "or rare events.\n",
    "\n",
    "\n",
    "It is essential to handle outliers because they can have a significant impact on the results of\n",
    "statistical analysis and machine learning models. Outliers can skew the results of summary statistics\n",
    "such as the mean and standard deviation, leading to inaccurate inferences about the data. Additionally,\n",
    "they can affect the performance of machine learning models by introducing noise and bias."
   ]
  },
  {
   "cell_type": "code",
   "execution_count": null,
   "id": "f436695e-739a-4fe9-9fef-18d11781d3cd",
   "metadata": {},
   "outputs": [],
   "source": [
    "Q7: You are working on a project that requires analyzing customer data. However, you notice that some of\n",
    "the data is missing. What are some techniques you can use to handle the missing data in your analysis?"
   ]
  },
  {
   "cell_type": "code",
   "execution_count": null,
   "id": "3bd10ef0-9c76-4a2d-86a1-d5e1bb4d53f4",
   "metadata": {},
   "outputs": [],
   "source": [
    "Ans: When dealing with missing data in a customer data analysis project, there are several techniques\n",
    "you can use. One approach is to simply remove any observations with missing data, although this can \n",
    "reduce the size of the dataset and potentially introduce bias. Another approach is to impute the \n",
    "missing values by filling them in with estimated values based on the other observations in the dataset. Imputation techniques can include mean imputation, median imputation, regression imputation, or k-nearest neighbors imputation."
   ]
  },
  {
   "cell_type": "code",
   "execution_count": null,
   "id": "0d1dd0b2-2cfa-4047-bb89-4dc11f62ea63",
   "metadata": {},
   "outputs": [],
   "source": [
    "Q8: You are working with a large dataset and find that a small percentage of the data is missing. What are\n",
    "some strategies you can use to determine if the missing data is missing at random or if there is a pattern\n",
    "to the missing data?"
   ]
  },
  {
   "cell_type": "code",
   "execution_count": null,
   "id": "0f2cbc6e-3bfa-4f03-bef6-dddb99615957",
   "metadata": {},
   "outputs": [],
   "source": [
    "Ans: To determine if missing data is missing at random or if there is a pattern to the missing data, \n",
    "you can use exploratory data analysis techniques such as data visualization, summary statistics, and\n",
    "hypothesis testing. One approach is to compare the distribution of the missing data with the\n",
    "distribution of the complete data. If the distributions are similar, it may indicate that the data\n",
    "is missing at random. If there are differences in the distributions, it may indicate a pattern to the\n",
    "missing data."
   ]
  },
  {
   "cell_type": "code",
   "execution_count": null,
   "id": "fe667e55-d058-4b27-9ce4-c8d39292dbfd",
   "metadata": {},
   "outputs": [],
   "source": [
    "Q9: Suppose you are working on a medical diagnosis project and find that the majority of patients in the\n",
    "dataset do not have the condition of interest, while a small percentage do. What are some strategies you\n",
    "can use to evaluate the performance of your machine learning model on this imbalanced dataset?"
   ]
  },
  {
   "cell_type": "code",
   "execution_count": null,
   "id": "da61defc-3ba8-47fe-9431-565f50437fa4",
   "metadata": {},
   "outputs": [],
   "source": [
    "Ans: When dealing with an imbalanced medical diagnosis dataset, some strategies you can use to evaluate\n",
    "the performance of your machine learning model include using evaluation metrics that are appropriate \n",
    "for imbalanced datasets, such as precision, recall, F1 score, and area under the ROC curve.\n",
    "Additionally, you can use techniques such as stratified sampling, resampling methods \n",
    "(such as up-sampling or down-sampling), or cost-sensitive learning to balance the dataset and improve\n",
    "the performance of the machine learning model."
   ]
  },
  {
   "cell_type": "code",
   "execution_count": null,
   "id": "5bce3eb5-cd33-4f4d-83f3-695759443564",
   "metadata": {},
   "outputs": [],
   "source": [
    "Q10: When attempting to estimate customer satisfaction for a project, you discover that the dataset is\n",
    "unbalanced, with the bulk of customers reporting being satisfied. What methods can you employ to\n",
    "balance the dataset and down-sample the majority class?"
   ]
  },
  {
   "cell_type": "code",
   "execution_count": null,
   "id": "28b08319-8fbd-4d05-a000-3a642d50ead7",
   "metadata": {},
   "outputs": [],
   "source": [
    "Ans:  When dealing with an unbalanced customer satisfaction dataset, you can employ methods such as \n",
    "down-sampling the majority class to balance the dataset. This involves randomly removing some \n",
    "observations from the majority class to match the size of the minority class. Another approach is\n",
    "to use weighting methods, where you give more weight to the minority class to balance the impact\n",
    "of the imbalance on the machine learning model."
   ]
  },
  {
   "cell_type": "code",
   "execution_count": null,
   "id": "8c5984f8-59d9-4ba3-bf92-9cf081b450b8",
   "metadata": {},
   "outputs": [],
   "source": [
    "Q11: You discover that the dataset is unbalanced with a low percentage of occurrences while working on a\n",
    "project that requires you to estimate the occurrence of a rare event. What methods can you employ to\n",
    "balance the dataset and up-sample the minority class?"
   ]
  },
  {
   "cell_type": "code",
   "execution_count": null,
   "id": "22422329-7e93-4df0-8611-9fec038478dc",
   "metadata": {},
   "outputs": [],
   "source": [
    "Ans:  When dealing with an unbalanced dataset with a low percentage of occurrences, you can employ\n",
    "methods such as up-sampling the minority class to balance the dataset. This involves generating \n",
    "synthetic data points for the minority class to increase its size and balance the dataset. Another \n",
    "approach is to use ensemble methods such as bagging or boosting to improve the performance of the\n",
    "machine learning model on the minority class."
   ]
  }
 ],
 "metadata": {
  "kernelspec": {
   "display_name": "Python 3 (ipykernel)",
   "language": "python",
   "name": "python3"
  },
  "language_info": {
   "codemirror_mode": {
    "name": "ipython",
    "version": 3
   },
   "file_extension": ".py",
   "mimetype": "text/x-python",
   "name": "python",
   "nbconvert_exporter": "python",
   "pygments_lexer": "ipython3",
   "version": "3.10.6"
  }
 },
 "nbformat": 4,
 "nbformat_minor": 5
}
