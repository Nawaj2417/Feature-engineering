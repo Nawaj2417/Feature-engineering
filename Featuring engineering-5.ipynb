{
 "cells": [
  {
   "cell_type": "markdown",
   "id": "32b8e495-894e-4a88-8a3f-5404a019b07f",
   "metadata": {},
   "source": [
    "Q1. What is the difference between Ordinal Encoding and Label Encoding? Provide an example of when you\n",
    "might choose one over the other."
   ]
  },
  {
   "cell_type": "code",
   "execution_count": null,
   "id": "177cedea-892e-4b18-99d7-57ad2c918fb9",
   "metadata": {},
   "outputs": [],
   "source": [
    "Ans: The difference between ordinal encoding and label encoding are :\n",
    "    ordinal encoding is used when the categorical data has an inherent order or hierarachy, such as low, medium,\n",
    "    and high or small, medium and large.\n",
    "    \n",
    "    Similarly,  Label encoding is used when the categorical data has no inherent order or hierarchy, such as colors\n",
    "    or names. In label encoding, each category is assigned a unique numerical value, with no particular ordering.\n",
    "    \n",
    "    For example, if we are encoding a dataset that contains a categorical variable \"education level\" with \n",
    "    categories \"high school\", \"some college\", \"bachelor's degree\", \"master's degree\", and \"doctorate degree\",\n",
    "    we might choose to use Ordinal Encoding, as the categories have an inherent order based on the level of \n",
    "    education attained.\n",
    "\n",
    "On the other hand, if we are encoding a dataset that contains a categorical variable \"color\" with categories\n",
    "\"red\", \"blue\", and \"green\", we might choose to use Label Encoding, as there is no inherent order to the \n",
    "categories."
   ]
  },
  {
   "cell_type": "code",
   "execution_count": null,
   "id": "7ccea2f3-1105-4664-864f-9b60f5528753",
   "metadata": {},
   "outputs": [],
   "source": [
    "Q2. Explain how Target Guided Ordinal Encoding works and provide an example of when you might use it in\n",
    "a machine learning project."
   ]
  },
  {
   "cell_type": "code",
   "execution_count": null,
   "id": "59a61dc8-1b61-49ff-a1a4-efc84b344bcb",
   "metadata": {},
   "outputs": [],
   "source": [
    "Ans: Target Guided Encoding can be especially useful when working with categorical variables that have a strong\n",
    "relationship with the target variables, as it can help to capture this relationship  in a more nuanced way than\n",
    "other encoding techniques. It is important to note that target guided ordinal encoding may not be appropriate\n",
    "in all cases, and it is always important to carefully evaluate the performance of different encoding techniques\n",
    " in the context of a specific machine learning project.\n",
    "    \n",
    "    "
   ]
  },
  {
   "cell_type": "code",
   "execution_count": null,
   "id": "7d15c6ad-96fb-4481-b022-dbb14f794435",
   "metadata": {},
   "outputs": [],
   "source": [
    "Q3. Define covariance and explain why it is important in statistical analysis. How is covariance calculated?"
   ]
  },
  {
   "cell_type": "code",
   "execution_count": null,
   "id": "15bf5fc1-6552-43ed-81a7-17d9549f71a4",
   "metadata": {},
   "outputs": [],
   "source": [
    "Ans:- Covariance measures the direction and strength of the linear relationship between two variables.\n",
    "it is important in statiscal analysis because it helps to identify the strength and direction of the relation\n",
    "ship between two variables.\n",
    "It is important because it can be used to understand how changes in one variable affect changes in another\n",
    "variable, and can also help in identifying relationships that can be used to make predication.\n",
    "\n",
    "Covariance(X,Y) = [∑(Xi - X_mean)*(Yi - Y_mean)] / (n - 1)"
   ]
  },
  {
   "cell_type": "code",
   "execution_count": null,
   "id": "031cb539-db74-40cd-a575-baa1d5076aab",
   "metadata": {},
   "outputs": [],
   "source": [
    "Q4. For a dataset with the following categorical variables: Color (red, green, blue), Size (small, medium,\n",
    "large), and Material (wood, metal, plastic), perform label encoding using Python's scikit-learn library.\n",
    "Show your code and explain the output."
   ]
  },
  {
   "cell_type": "code",
   "execution_count": 2,
   "id": "f7e24ff6-5a5a-4e63-8dfa-cc82248a57af",
   "metadata": {},
   "outputs": [
    {
     "name": "stdout",
     "output_type": "stream",
     "text": [
      "   color  Size  Material\n",
      "0      3     2         2\n",
      "1      2     1         0\n",
      "2      0     0         1\n",
      "3      1     1         0\n",
      "4      0     2         2\n",
      "5      3     0         1\n"
     ]
    }
   ],
   "source": [
    "from sklearn.preprocessing import LabelEncoder\n",
    "import pandas as pd\n",
    "data = pd.DataFrame({\n",
    "      'color' : ['red', 'green', 'blue', 'gree','blue', 'red'],\n",
    "    'Size' : ['small', 'medium', 'large', 'medium','small', 'large'],\n",
    "    'Material' : ['wood', 'metal', 'plastic','metal', 'wood', 'plastic']\n",
    "})\n",
    "\n",
    "label = LabelEncoder()\n",
    "data['color'] = label.fit_transform(data['color'])\n",
    "data['Size'] = label.fit_transform(data['Size'])\n",
    "data['Material'] = label.fit_transform(data['Material'])\n",
    "\n",
    "print(data)"
   ]
  },
  {
   "cell_type": "code",
   "execution_count": null,
   "id": "bf3b2cfd-3624-4bb4-aaf8-0cc7cd802399",
   "metadata": {},
   "outputs": [],
   "source": [
    "Q5. Calculate the covariance matrix for the following variables in a dataset: Age, Income, and Education\n",
    "level. Interpret the results."
   ]
  },
  {
   "cell_type": "code",
   "execution_count": 3,
   "id": "5d9d7bc6-1fae-4c18-beff-a0da1cde99f3",
   "metadata": {},
   "outputs": [
    {
     "name": "stdout",
     "output_type": "stream",
     "text": [
      "[[ 2.5000e+02  2.4625e+05 -5.0000e+00]\n",
      " [ 2.4625e+05  4.8850e+08  3.0000e+03]\n",
      " [-5.0000e+00  3.0000e+03  1.0000e+01]]\n"
     ]
    }
   ],
   "source": [
    "import numpy as np\n",
    "import pandas as pd\n",
    "\n",
    "data = pd.DataFrame({\n",
    "'Age' : [30, 40, 50,60,70],\n",
    "'Income' : [5000, 6000, 7000, 4500, 55000],\n",
    "'Education Level' : [12, 16, 18, 10, 14]\n",
    "})\n",
    "\n",
    "cov_matrix = np.cov(data.T)\n",
    "print(cov_matrix)"
   ]
  },
  {
   "cell_type": "code",
   "execution_count": null,
   "id": "fb63cdd2-4ed5-4813-be0b-a951b230f78b",
   "metadata": {},
   "outputs": [],
   "source": [
    "Q6. You are working on a machine learning project with a dataset containing several categorical\n",
    "variables, including \"Gender\" (Male/Female), \"Education Level\" (High School/Bachelor's/Master's/PhD),\n",
    "and \"Employment Status\" (Unemployed/Part-Time/Full-Time). Which encoding method would you use for\n",
    "each variable, and why?"
   ]
  },
  {
   "cell_type": "code",
   "execution_count": null,
   "id": "f43f5cff-c904-4eca-bf7f-5bc9cf8d1c19",
   "metadata": {},
   "outputs": [],
   "source": [
    "Ans: for the 'Gender' variable, we can use label encoding since there are only two categories: Male and Female.\n",
    "similarly, for the 'Eduacation Level' variable, we can use ordinal encoding since there is a natural ordering\n",
    "to the categories.\n",
    "and lastly, for the 'Employment Status' variable, we can use one-hot encoding since there is no natural ordering\n",
    "to the categories and we want to avoid assigning any numerical values that mighty imply an ordering or magnitude.\n"
   ]
  },
  {
   "cell_type": "code",
   "execution_count": null,
   "id": "33ae2025-2cfb-40c6-b386-da5f6f20d379",
   "metadata": {},
   "outputs": [],
   "source": [
    "Q7. You are analyzing a dataset with two continuous variables, \"Temperature\" and \"Humidity\", and two\n",
    "categorical variables, \"Weather Condition\" (Sunny/Cloudy/Rainy) and \"Wind Direction\" (North/South/\n",
    "East/West). Calculate the covariance between each pair of variables and interpret the results."
   ]
  },
  {
   "cell_type": "code",
   "execution_count": 4,
   "id": "2dfa17c3-76d8-446e-9204-3c938fda3179",
   "metadata": {},
   "outputs": [
    {
     "name": "stdout",
     "output_type": "stream",
     "text": [
      "[[ 62.5 125. ]\n",
      " [125.  430. ]]\n"
     ]
    }
   ],
   "source": [
    "import pandas as pd\n",
    "import numpy as np\n",
    "\n",
    "temperature = np.array([20, 25, 30, 35, 40])\n",
    "humidity = np.array([50, 60, 40, 80, 90])\n",
    "weather_condition = np.array(['Sunny', 'Sunny', 'Cloudy', 'Rainy', 'Rainy'])\n",
    "wind_direction = np.array(['North', 'South', 'East', 'West', 'North'])\n",
    "\n",
    "data = np.array([temperature, humidity]).T\n",
    "cov_matrix = np.cov(data, rowvar = False)\n",
    "\n",
    "print(cov_matrix)"
   ]
  },
  {
   "cell_type": "code",
   "execution_count": null,
   "id": "16f8eaee-9691-4468-98cf-75ff879643c4",
   "metadata": {},
   "outputs": [],
   "source": []
  }
 ],
 "metadata": {
  "kernelspec": {
   "display_name": "Python 3 (ipykernel)",
   "language": "python",
   "name": "python3"
  },
  "language_info": {
   "codemirror_mode": {
    "name": "ipython",
    "version": 3
   },
   "file_extension": ".py",
   "mimetype": "text/x-python",
   "name": "python",
   "nbconvert_exporter": "python",
   "pygments_lexer": "ipython3",
   "version": "3.10.6"
  }
 },
 "nbformat": 4,
 "nbformat_minor": 5
}
