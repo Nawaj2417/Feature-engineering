{
 "cells": [
  {
   "cell_type": "code",
   "execution_count": null,
   "id": "ed7ed571-e921-48b6-82cb-f30ac29070d1",
   "metadata": {},
   "outputs": [],
   "source": [
    "Q1. What is data encoding? How is it useful in data science?\n"
   ]
  },
  {
   "cell_type": "code",
   "execution_count": null,
   "id": "f96248d8-59bb-4192-80cb-287f12aab5c5",
   "metadata": {},
   "outputs": [],
   "source": [
    "Ans: Data encoding is a fundamental technique in data science that is used to transform categorical or textual\n",
    "data into a numerical form that can be processed by machine learning algorithms.\n",
    "\n",
    "It allows data scientists to work with a wide range of data types and improve the accuracy and performance of \n",
    "machine learning models."
   ]
  },
  {
   "cell_type": "code",
   "execution_count": null,
   "id": "f1d9a6ca-c337-4550-97e8-b70320c5cd2c",
   "metadata": {},
   "outputs": [],
   "source": [
    "Q2. What is nominal encoding? Provide an example of how you would use it in a real-world scenario."
   ]
  },
  {
   "cell_type": "code",
   "execution_count": null,
   "id": "f998184a-c9a9-430a-9a5f-0f44f04f0527",
   "metadata": {},
   "outputs": [],
   "source": [
    "Ans: Nominal encoding also known as One-Hot encoding or dummy encoding is a technique used in machine learning\n",
    "to convert categorical data into a numerical format that can be used by alogorithms.\n",
    "\n",
    "Here's an example of how you might use nominal encoding in a real-world scenario. Let's say you work for a \n",
    "marketing company that wants to predict which customers are likely to purchase a new product based on their\n",
    "demographic information. One of the features in your dataset is \"marital status\", which has four possible\n",
    "values: single, married, divorced, and widowed. Since marital status is a categorical feature, you decide \n",
    "to use nominal encoding to convert it to a numerical format.\n",
    "\n",
    "After performing nominal encoding, you would end up with four new binary columns: \"marital_status_single\", \n",
    "\"marital_status_married\", \"marital_status_divorced\", and \"marital_status_widowed\". For each customer in your\n",
    "dataset, the appropriate column would have a value of 1, and the other three columns would have a value of \n",
    "0. You could then use these binary columns as input features for your machine learning algorithm to predict\n",
    "which customers are likely to purchase the new product.\n"
   ]
  },
  {
   "cell_type": "code",
   "execution_count": null,
   "id": "0def5818-5455-4581-81c0-9896233f67e2",
   "metadata": {},
   "outputs": [],
   "source": [
    "Q3. In what situations is nominal encoding preferred over one-hot encoding? Provide a practical example."
   ]
  },
  {
   "cell_type": "code",
   "execution_count": null,
   "id": "69a64975-1071-4a95-9ffa-2619c4fe6168",
   "metadata": {},
   "outputs": [],
   "source": [
    "Ans: Nominal encoding may be preferred over one-hot encoding in situations where the categorical variable\n",
    "has a large number of unique categories, and the resulting one-hot encoded feature space would be too large\n",
    "to be manageable. In such cases, nominal encoding can reduce the dimensionality of the data while still \n",
    "preserving the information in the categorical variable.\n",
    "\n",
    "For example, consider a dataset of customer reviews for a product, where the reviews are categorized \n",
    "as positive, neutral, or negative. If we were to one-hot encode the review category feature, we would end \n",
    "up with three binary columns. However, if the dataset also contained a large number of additional \n",
    "categorical features, such as the customer's location or age, the resulting feature space could become very\n",
    "large and computationally expensive to work with. In such a case, nominal encoding could be a more practical\n",
    "approach for encoding the review category feature into numerical values."
   ]
  },
  {
   "cell_type": "code",
   "execution_count": null,
   "id": "b2c3f582-dade-45da-88b3-46dc64c53ad2",
   "metadata": {},
   "outputs": [],
   "source": [
    "Q4. Suppose you have a dataset containing categorical data with 5 unique values. Which encoding\n",
    "technique would you use to transform this data into a format suitable for machine learning algorithms?\n",
    "Explain why you made this choice."
   ]
  },
  {
   "cell_type": "code",
   "execution_count": null,
   "id": "b02d7a9d-104b-417d-9474-7ff5e26d5686",
   "metadata": {},
   "outputs": [],
   "source": [
    "Ans: one-hot encoding technique would used to transform this data into a format suitable for machine learning \n",
    "algorithm because it widely used technique for transforming categorical data into a format suitable for \n",
    "machine learning algorithms, particularly when the number of unique values is small."
   ]
  },
  {
   "cell_type": "code",
   "execution_count": null,
   "id": "8c4adb6a-7bf9-4642-bbee-1023faf5af91",
   "metadata": {},
   "outputs": [],
   "source": [
    "Q5. In a machine learning project, you have a dataset with 1000 rows and 5 columns. Two of the columns\n",
    "are categorical, and the remaining three columns are numerical. If you were to use nominal encoding to\n",
    "transform the categorical data, how many new columns would be created? Show your calculations."
   ]
  },
  {
   "cell_type": "code",
   "execution_count": null,
   "id": "38ae16b1-de2b-4cd6-a6d0-56e8f13284aa",
   "metadata": {},
   "outputs": [],
   "source": [
    "Ans: If there are two categorical columns in the dataset, we need to encode each column separately. Let's assume that the first column has m categories and the second column has n categories.\n",
    "\n",
    "For nominal encoding, we create a new column for each category in each categorical column. Each new column\n",
    "will have a binary value (0 or 1) indicating whether that category is present in that row or not.\n",
    "Therefore, the number of new columns created for the first categorical column would be m, and for the \n",
    "second categorical column, it would be n.\n",
    "\n",
    "In this case, we have two categorical columns, so the total number of new columns created would be m + n.\n",
    "\n",
    "Therefore, the total number of new columns created in this case would be:\n",
    "\n",
    "m + n = number of categories in first column + number of categories in second column\n",
    "\n",
    "Without knowing the specific number of categories in each categorical column, we cannot determine the exact \n",
    "number of new columns created."
   ]
  },
  {
   "cell_type": "code",
   "execution_count": null,
   "id": "826b86fa-155e-415d-8b79-1b76e385351e",
   "metadata": {},
   "outputs": [],
   "source": [
    "Q6. You are working with a dataset containing information about different types of animals, including their\n",
    "species, habitat, and diet. Which encoding technique would you use to transform the categorical data into\n",
    "a format suitable for machine learning algorithms? Justify your answer."
   ]
  },
  {
   "cell_type": "code",
   "execution_count": null,
   "id": "378cb22d-baa9-4a3b-a37a-e86cb7cdfa75",
   "metadata": {},
   "outputs": [],
   "source": [
    "Ans: In this case  , we use one-hot encoding  technique to transform the categorical data into a format suitable\n",
    "for machine learning algorithms because it can handle a large number of unique values and doesnot impose any\n",
    "ordinal relationships between the categories."
   ]
  },
  {
   "cell_type": "code",
   "execution_count": null,
   "id": "110a6cfe-d44d-4678-86cb-48a49475c890",
   "metadata": {},
   "outputs": [],
   "source": [
    "Q7.You are working on a project that involves predicting customer churn for a telecommunications\n",
    "company. You have a dataset with 5 features, including the customer's gender, age, contract type,\n",
    "monthly charges, and tenure. Which encoding technique(s) would you use to transform the categorical\n",
    "data into numerical data? Provide a step-by-step explanation of how you would implement the encoding."
   ]
  },
  {
   "cell_type": "code",
   "execution_count": null,
   "id": "c72486de-4b0a-4e37-9f89-115ea903bf3c",
   "metadata": {},
   "outputs": [],
   "source": [
    "Ans: i use mainly one-hot encoding technique to transform the categorical data into numberical data.\n",
    "it's examplaination are :\n"
   ]
  },
  {
   "cell_type": "code",
   "execution_count": 2,
   "id": "7d475b34-dfcb-4b11-9ff0-a585fa652fbc",
   "metadata": {},
   "outputs": [
    {
     "ename": "NameError",
     "evalue": "name 'df' is not defined",
     "output_type": "error",
     "traceback": [
      "\u001b[0;31m---------------------------------------------------------------------------\u001b[0m",
      "\u001b[0;31mNameError\u001b[0m                                 Traceback (most recent call last)",
      "Cell \u001b[0;32mIn [2], line 7\u001b[0m\n\u001b[1;32m      4\u001b[0m one_hot_encoder \u001b[38;5;241m=\u001b[39m OneHotEncoder()\n\u001b[1;32m      6\u001b[0m \u001b[38;5;66;03m# encode the contract type feature\u001b[39;00m\n\u001b[0;32m----> 7\u001b[0m contract_type_encoded \u001b[38;5;241m=\u001b[39m one_hot_encoder\u001b[38;5;241m.\u001b[39mfit_transform(\u001b[43mdf\u001b[49m[\u001b[38;5;124m'\u001b[39m\u001b[38;5;124mcontract_type\u001b[39m\u001b[38;5;124m'\u001b[39m]\u001b[38;5;241m.\u001b[39mvalues\u001b[38;5;241m.\u001b[39mreshape(\u001b[38;5;241m-\u001b[39m\u001b[38;5;241m1\u001b[39m, \u001b[38;5;241m1\u001b[39m))\n\u001b[1;32m      9\u001b[0m \u001b[38;5;66;03m# create new feature names\u001b[39;00m\n\u001b[1;32m     10\u001b[0m feature_names \u001b[38;5;241m=\u001b[39m [\u001b[38;5;124m'\u001b[39m\u001b[38;5;124mcontract_type_month-to-month\u001b[39m\u001b[38;5;124m'\u001b[39m, \u001b[38;5;124m'\u001b[39m\u001b[38;5;124mcontract_type_one_year\u001b[39m\u001b[38;5;124m'\u001b[39m, \u001b[38;5;124m'\u001b[39m\u001b[38;5;124mcontract_type_two_year\u001b[39m\u001b[38;5;124m'\u001b[39m]\n",
      "\u001b[0;31mNameError\u001b[0m: name 'df' is not defined"
     ]
    }
   ],
   "source": [
    "from sklearn.preprocessing import OneHotEncoder\n",
    "\n",
    "# create a one-hot encoder object\n",
    "one_hot_encoder = OneHotEncoder()\n",
    "\n",
    "# encode the contract type feature\n",
    "contract_type_encoded = one_hot_encoder.fit_transform(df['contract_type'].values.reshape(-1, 1))\n",
    "\n",
    "# create new feature names\n",
    "feature_names = ['contract_type_month-to-month', 'contract_type_one_year', 'contract_type_two_year']\n",
    "\n",
    "# convert the encoded features to a dataframe\n",
    "contract_type_encoded_df = pd.DataFrame(contract_type_encoded.toarray(), columns=feature_names)\n",
    "\n",
    "# concatenate the encoded features with the original dataframe\n",
    "df = pd.concat([df, contract_type_encoded_df], axis=1)\n"
   ]
  },
  {
   "cell_type": "code",
   "execution_count": null,
   "id": "623ceeb4-187d-45a4-a326-e7c5b0949b58",
   "metadata": {},
   "outputs": [],
   "source": [
    "df"
   ]
  }
 ],
 "metadata": {
  "kernelspec": {
   "display_name": "Python 3 (ipykernel)",
   "language": "python",
   "name": "python3"
  },
  "language_info": {
   "codemirror_mode": {
    "name": "ipython",
    "version": 3
   },
   "file_extension": ".py",
   "mimetype": "text/x-python",
   "name": "python",
   "nbconvert_exporter": "python",
   "pygments_lexer": "ipython3",
   "version": "3.10.6"
  }
 },
 "nbformat": 4,
 "nbformat_minor": 5
}
